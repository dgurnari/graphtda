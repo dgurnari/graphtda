{
 "cells": [
  {
   "cell_type": "code",
   "execution_count": 1,
   "metadata": {},
   "outputs": [],
   "source": [
    "import numpy as np\n",
    "import pandas as pd\n",
    "import networkx as nx\n",
    "from tqdm.auto import tqdm\n",
    "\n",
    "import matplotlib.pyplot as plt"
   ]
  },
  {
   "attachments": {},
   "cell_type": "markdown",
   "metadata": {},
   "source": [
    "## Get data"
   ]
  },
  {
   "cell_type": "code",
   "execution_count": 2,
   "metadata": {},
   "outputs": [],
   "source": [
    "from graphtda.datasets import get_dataset, read_classes\n",
    "from graphtda.reader import tud_to_networkx"
   ]
  },
  {
   "cell_type": "code",
   "execution_count": 3,
   "metadata": {},
   "outputs": [
    {
     "name": "stdout",
     "output_type": "stream",
     "text": [
      "[0 1 2] [500 500 500]\n"
     ]
    }
   ],
   "source": [
    "DATASET_NAME = 'IMDB-MULTI'\n",
    "\n",
    "get_dataset(DATASET_NAME)\n",
    "data = tud_to_networkx(DATASET_NAME)\n",
    "y = read_classes(DATASET_NAME) - 1\n",
    "\n",
    "u, values = np.unique(y, return_counts=True)\n",
    "print(u, values)"
   ]
  },
  {
   "attachments": {},
   "cell_type": "markdown",
   "metadata": {},
   "source": [
    "# 1-parameter filtrations"
   ]
  },
  {
   "attachments": {},
   "cell_type": "markdown",
   "metadata": {},
   "source": [
    "## Compute ECC - degree filtration"
   ]
  },
  {
   "cell_type": "code",
   "execution_count": null,
   "metadata": {},
   "outputs": [],
   "source": [
    "from graphtda import FilteredGraph\n",
    "from graphtda.graphtda import degree_filtration\n",
    "from graphtda.bifiltration_utils import euler_characteristic_list_from_all, plot_euler_curve, EC_at_filtration"
   ]
  },
  {
   "cell_type": "code",
   "execution_count": null,
   "metadata": {},
   "outputs": [],
   "source": [
    "ECC_list = []\n",
    "\n",
    "for G in tqdm(data):\n",
    "    fg = FilteredGraph(G, filtration_function=degree_filtration)\n",
    "    ecc_contributions = fg.compute_ECP()\n",
    "\n",
    "    ECC_list.append(euler_characteristic_list_from_all(ecc_contributions))"
   ]
  },
  {
   "cell_type": "code",
   "execution_count": null,
   "metadata": {},
   "outputs": [],
   "source": [
    "fig, ax = plt.subplots()\n",
    "for ecc in ECC_list:\n",
    "    plot_euler_curve(ecc, with_lines=True, this_ax=ax)"
   ]
  },
  {
   "attachments": {},
   "cell_type": "markdown",
   "metadata": {},
   "source": [
    "### Vectorize"
   ]
  },
  {
   "cell_type": "code",
   "execution_count": null,
   "metadata": {},
   "outputs": [],
   "source": [
    "# lets find the max filtration value\n",
    "max_f = max([c[-1][0] for c in ECC_list])\n",
    "max_f"
   ]
  },
  {
   "cell_type": "code",
   "execution_count": null,
   "metadata": {},
   "outputs": [],
   "source": [
    "# lets sample the ECCs\n",
    "X = np.array([ [EC_at_filtration(ecc, i) for i in range(max_f+1)] for ecc in ECC_list])\n",
    "X.shape"
   ]
  },
  {
   "attachments": {},
   "cell_type": "markdown",
   "metadata": {},
   "source": [
    "### Classify"
   ]
  },
  {
   "cell_type": "code",
   "execution_count": null,
   "metadata": {},
   "outputs": [],
   "source": [
    "from sklearn import svm\n",
    "from sklearn.model_selection import train_test_split, StratifiedKFold\n",
    "from sklearn.metrics import confusion_matrix, ConfusionMatrixDisplay"
   ]
  },
  {
   "cell_type": "code",
   "execution_count": null,
   "metadata": {},
   "outputs": [],
   "source": [
    "train_accuracy_SVM = []\n",
    "test_accuracy_SVM = []\n",
    "\n",
    "skf = StratifiedKFold(n_splits=5)\n",
    "        \n",
    "for train, test in tqdm(skf.split(X, y)):\n",
    "    \n",
    "    SVM_classifier = svm.SVC(kernel='rbf', \n",
    "                            class_weight='balanced', \n",
    "                            C=1,\n",
    "                            random_state=42)\n",
    "    SVM_classifier.fit(X[train], y[train])\n",
    "    train_accuracy_SVM.append(SVM_classifier.score(X[train], y[train]))\n",
    "    test_accuracy_SVM.append(SVM_classifier.score(X[test], y[test]))\n",
    "\n",
    "\n",
    "print(\"TRAIN: {:.3} \\pm {:.3}\".format(np.mean(train_accuracy_SVM), np.std(train_accuracy_SVM)))\n",
    "print(\"TEST: {:.3} \\pm {:.3}\".format(np.mean(test_accuracy_SVM), np.std(test_accuracy_SVM)))"
   ]
  },
  {
   "cell_type": "code",
   "execution_count": null,
   "metadata": {},
   "outputs": [],
   "source": [
    "from sklearn.discriminant_analysis import LinearDiscriminantAnalysis"
   ]
  },
  {
   "cell_type": "code",
   "execution_count": null,
   "metadata": {},
   "outputs": [],
   "source": [
    "train_accuracy_LDA = []\n",
    "test_accuracy_LDA = []\n",
    "\n",
    "skf = StratifiedKFold(n_splits=5)\n",
    "        \n",
    "for train, test in tqdm(skf.split(X, y)):\n",
    "    \n",
    "    ldr_classifier = LinearDiscriminantAnalysis()\n",
    "\n",
    "    ldr_classifier.fit(X[train], y[train])\n",
    "    train_accuracy_LDA.append(ldr_classifier.score(X[train], y[train]))\n",
    "    test_accuracy_LDA.append(ldr_classifier.score(X[test], y[test]))\n",
    "\n",
    "\n",
    "print(\"TRAIN: {:.3} \\pm {:.3}\".format(np.mean(train_accuracy_LDA), np.std(train_accuracy_LDA)))\n",
    "print(\"TEST: {:.3} \\pm {:.3}\".format(np.mean(test_accuracy_LDA), np.std(test_accuracy_LDA)))"
   ]
  },
  {
   "attachments": {},
   "cell_type": "markdown",
   "metadata": {},
   "source": [
    "# 2-parameter filtrations"
   ]
  },
  {
   "cell_type": "code",
   "execution_count": 4,
   "metadata": {},
   "outputs": [],
   "source": [
    "from graphtda import FilteredGraph\n",
    "from graphtda.graphtda import hks, ollivier_ricci_curvature, degree_filtration\n",
    "from graphtda.graphtda import product_bifiltration, interlevel_bifiltration, HKS_bifiltration\n",
    "\n",
    "from graphtda.bifiltration_utils import discretize_graded_rank"
   ]
  },
  {
   "cell_type": "code",
   "execution_count": 5,
   "metadata": {},
   "outputs": [
    {
     "data": {
      "application/vnd.jupyter.widget-view+json": {
       "model_id": "1a65e01f3000414885c7b7642463809b",
       "version_major": 2,
       "version_minor": 0
      },
      "text/plain": [
       "  0%|          | 0/1500 [00:00<?, ?it/s]"
      ]
     },
     "metadata": {},
     "output_type": "display_data"
    }
   ],
   "source": [
    "hilbert_0 = []\n",
    "hilbert_1 = []\n",
    "\n",
    "for G in tqdm(data):\n",
    "    #FG1 = FilteredGraph(G, hks, t=10)\n",
    "    #FG2 = FilteredGraph(G, ollivier_ricci_curvature, alpha=0.5)\n",
    "\n",
    "    #FG3 = FilteredGraph(G, degree_filtration)\n",
    "\n",
    "    #FG = FilteredGraph(G, product_bifiltration, G1=FG1, G2=FG2)\n",
    "\n",
    "    FG = FilteredGraph(G, HKS_bifiltration)\n",
    "\n",
    "    FG.compute_bipersistence(dim=0, x=100,y=100)\n",
    "    hilbert_0.append(FG.betti)\n",
    "\n",
    "    FG.compute_bipersistence(dim=1, x=100,y=100)\n",
    "    hilbert_1.append(FG.betti)\n",
    "\n",
    "import pickle\n",
    "\n",
    "with open('pkl/{}_hks_bi_0'.format(DATASET_NAME), 'wb') as f0:\n",
    "    pickle.dump(hilbert_0, f0)\n",
    "\n",
    "with open('pkl/{}_hks_bi_1'.format(DATASET_NAME), 'wb') as f1:\n",
    "    pickle.dump(hilbert_1, f1)"
   ]
  },
  {
   "cell_type": "code",
   "execution_count": 6,
   "metadata": {},
   "outputs": [],
   "source": [
    "import pickle \n",
    "\n",
    "with open('pkl/{}_hks_bi_0'.format(DATASET_NAME), 'rb') as f0:\n",
    "    hilbert_0 = pickle.load(f0)\n",
    "\n",
    "with open('pkl/{}_hks_bi_1'.format(DATASET_NAME), 'rb') as f1:\n",
    "    hilbert_1 = pickle.load(f1)"
   ]
  },
  {
   "cell_type": "code",
   "execution_count": 7,
   "metadata": {},
   "outputs": [
    {
     "name": "stdout",
     "output_type": "stream",
     "text": [
      "0.01000099 1.0\n",
      "0.1 10.0\n",
      "0.01000099 1.0\n",
      "0.1 10.0\n"
     ]
    }
   ],
   "source": [
    "x_min_0, x_max_0 = (min([float(min(betti.dimensions.x_grades)) for betti in hilbert_0]), \n",
    "                max([float(max(betti.dimensions.x_grades)) for betti in hilbert_0])\n",
    ")\n",
    "\n",
    "y_min_0, y_max_0 = (min([float(min(betti.dimensions.y_grades)) for betti in hilbert_0]), \n",
    "                max([float(max(betti.dimensions.y_grades)) for betti in hilbert_0])\n",
    ")\n",
    "\n",
    "print(x_min_0, x_max_0)\n",
    "print(y_min_0, y_max_0)\n",
    "\n",
    "x_min_1, x_max_1 = (min([float(min(betti.dimensions.x_grades)) for betti in hilbert_1]), \n",
    "                max([float(max(betti.dimensions.x_grades)) for betti in hilbert_1])\n",
    ")\n",
    "\n",
    "y_min_1, y_max_1 = (min([float(min(betti.dimensions.y_grades)) for betti in hilbert_1]), \n",
    "                max([float(max(betti.dimensions.y_grades)) for betti in hilbert_1])\n",
    ")\n",
    "\n",
    "print(x_min_1, x_max_1)\n",
    "print(y_min_1, y_max_1)"
   ]
  },
  {
   "cell_type": "code",
   "execution_count": 8,
   "metadata": {},
   "outputs": [
    {
     "data": {
      "application/vnd.jupyter.widget-view+json": {
       "model_id": "93db988c20874ed4b3e20475fb531dfd",
       "version_major": 2,
       "version_minor": 0
      },
      "text/plain": [
       "0it [00:00, ?it/s]"
      ]
     },
     "metadata": {},
     "output_type": "display_data"
    },
    {
     "data": {
      "application/vnd.jupyter.widget-view+json": {
       "model_id": "9d2b00a94dbc41b298bba3dddf0b5719",
       "version_major": 2,
       "version_minor": 0
      },
      "text/plain": [
       "0it [00:00, ?it/s]"
      ]
     },
     "metadata": {},
     "output_type": "display_data"
    },
    {
     "data": {
      "text/plain": [
       "(1500, 2, 50, 50)"
      ]
     },
     "execution_count": 8,
     "metadata": {},
     "output_type": "execute_result"
    }
   ],
   "source": [
    "x_grid = np.linspace(x_min_0, x_max_0, num=50)\n",
    "y_grid = np.linspace(y_min_0, y_max_0, num=50)\n",
    "\n",
    "grid_hilbert_0 = np.array([discretize_graded_rank(betti, x_grid, y_grid, i) for i, betti in tqdm(enumerate(hilbert_0))])\n",
    "grid_hilbert_1 = np.array([discretize_graded_rank(betti, x_grid, y_grid, i) for i, betti in tqdm(enumerate(hilbert_1))])\n",
    "\n",
    "hilbert_stack = np.stack((grid_hilbert_0, grid_hilbert_1), axis=1)\n",
    "hilbert_stack.shape"
   ]
  },
  {
   "cell_type": "code",
   "execution_count": 9,
   "metadata": {},
   "outputs": [
    {
     "data": {
      "text/plain": [
       "Text(0.5, 1.0, 'hilbert 1 class 2')"
      ]
     },
     "execution_count": 9,
     "metadata": {},
     "output_type": "execute_result"
    },
    {
     "data": {
      "image/png": "[encoded data removed]",
      "text/plain": [
       "<Figure size 640x480 with 6 Axes>"
      ]
     },
     "metadata": {},
     "output_type": "display_data"
    }
   ],
   "source": [
    "fig, axs = plt.subplots(ncols=3, nrows=2)\n",
    "\n",
    "axs[0, 0].imshow(np.mean(grid_hilbert_0[y == 1], axis=0))\n",
    "axs[0, 0].set_title('hilbert 0 class 1')\n",
    "axs[0, 1].imshow(np.mean(grid_hilbert_0[y == 0], axis=0))\n",
    "axs[0, 1].set_title('hilbert 0 class 0')\n",
    "axs[0, 2].imshow(np.mean(grid_hilbert_0[y == 2], axis=0))\n",
    "axs[0, 2].set_title('hilbert 0 class 2')\n",
    "\n",
    "axs[1, 0].imshow(np.mean(grid_hilbert_1[y == 1], axis=0))\n",
    "axs[1, 0].set_title('hilbert 1 class 1')\n",
    "axs[1, 1].imshow(np.mean(grid_hilbert_1[y == 0], axis=0))\n",
    "axs[1, 1].set_title('hilbert 1 class 0')\n",
    "axs[1, 2].imshow(np.mean(grid_hilbert_1[y == 2], axis=0))\n",
    "axs[1, 2].set_title('hilbert 1 class 2')"
   ]
  },
  {
   "attachments": {},
   "cell_type": "markdown",
   "metadata": {},
   "source": [
    "## ConvNN "
   ]
  },
  {
   "cell_type": "code",
   "execution_count": 10,
   "metadata": {},
   "outputs": [
    {
     "name": "stdout",
     "output_type": "stream",
     "text": [
      "The model will be running on cpu device\n"
     ]
    },
    {
     "data": {
      "application/vnd.jupyter.widget-view+json": {
       "model_id": "be618a24bff6471b97e0f637df42d00a",
       "version_major": 2,
       "version_minor": 0
      },
      "text/plain": [
       "0it [00:00, ?it/s]"
      ]
     },
     "metadata": {},
     "output_type": "display_data"
    },
    {
     "name": "stdout",
     "output_type": "stream",
     "text": [
      "TRAIN 0.412  TEST 0.433\n",
      "TRAIN 0.427  TEST 0.42\n",
      "TRAIN 0.43  TEST 0.413\n",
      "TRAIN 0.425  TEST 0.367\n",
      "TRAIN 0.414  TEST 0.437\n"
     ]
    }
   ],
   "source": [
    "from CNN_model import train_CNN\n",
    "\n",
    "train_accuracy_CNN, test_accuracy_CNN = train_CNN(hilbert_stack, y, num_epochs=50)"
   ]
  },
  {
   "cell_type": "code",
   "execution_count": 11,
   "metadata": {},
   "outputs": [
    {
     "name": "stdout",
     "output_type": "stream",
     "text": [
      "TRAIN: 42.2 \\pm 0.701\n",
      "TEST: 41.4 \\pm 2.52\n"
     ]
    }
   ],
   "source": [
    "print(\"TRAIN: {:.3} \\pm {:.3}\".format(np.mean(train_accuracy_CNN)*100, np.std(train_accuracy_CNN)*100 ))\n",
    "print(\"TEST: {:.3} \\pm {:.3}\".format(np.mean(test_accuracy_CNN)*100, np.std(test_accuracy_CNN)*100 ))"
   ]
  },
  {
   "cell_type": "code",
   "execution_count": null,
   "metadata": {},
   "outputs": [],
   "source": []
  },
  {
   "cell_type": "code",
   "execution_count": null,
   "metadata": {},
   "outputs": [],
   "source": []
  }
 ],
 "metadata": {
  "kernelspec": {
   "display_name": "tda",
   "language": "python",
   "name": "python3"
  },
  "language_info": {
   "codemirror_mode": {
    "name": "ipython",
    "version": 3
   },
   "file_extension": ".py",
   "mimetype": "text/x-python",
   "name": "python",
   "nbconvert_exporter": "python",
   "pygments_lexer": "ipython3",
   "version": "3.10.9"
  },
  "orig_nbformat": 4
 },
 "nbformat": 4,
 "nbformat_minor": 2
}
