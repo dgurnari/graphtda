{
 "cells": [
  {
   "cell_type": "code",
   "execution_count": 1,
   "metadata": {},
   "outputs": [],
   "source": [
    "import numpy as np\n",
    "import pandas as pd\n",
    "import networkx as nx\n",
    "from tqdm.auto import tqdm\n",
    "\n",
    "import matplotlib.pyplot as plt"
   ]
  },
  {
   "attachments": {},
   "cell_type": "markdown",
   "metadata": {},
   "source": [
    "## Get the data"
   ]
  },
  {
   "cell_type": "code",
   "execution_count": 2,
   "metadata": {},
   "outputs": [],
   "source": [
    "from graphtda.datasets import get_dataset, read_classes\n",
    "from graphtda.reader import tud_to_networkx"
   ]
  },
  {
   "cell_type": "code",
   "execution_count": 3,
   "metadata": {},
   "outputs": [
    {
     "name": "stdout",
     "output_type": "stream",
     "text": [
      "[0 1] [663 450]\n"
     ]
    }
   ],
   "source": [
    "DATASET_NAME = 'PROTEINS'\n",
    "\n",
    "get_dataset(DATASET_NAME)\n",
    "data = tud_to_networkx(DATASET_NAME)\n",
    "y = read_classes(DATASET_NAME) - 1\n",
    "\n",
    "u, values = np.unique(y, return_counts=True)\n",
    "print(u, values)"
   ]
  },
  {
   "attachments": {},
   "cell_type": "markdown",
   "metadata": {},
   "source": [
    "# 1-parameter filtrations"
   ]
  },
  {
   "attachments": {},
   "cell_type": "markdown",
   "metadata": {},
   "source": [
    "## Compute ECC - degree filtration"
   ]
  },
  {
   "cell_type": "code",
   "execution_count": null,
   "metadata": {},
   "outputs": [],
   "source": [
    "from graphtda import FilteredGraph\n",
    "from graphtda.graphtda import degree_filtration\n",
    "from graphtda.bifiltration_utils import euler_characteristic_list_from_all, plot_euler_curve, EC_at_filtration"
   ]
  },
  {
   "cell_type": "code",
   "execution_count": null,
   "metadata": {},
   "outputs": [],
   "source": [
    "ECC_list = []\n",
    "\n",
    "for G in tqdm(data):\n",
    "    fg = FilteredGraph(G, filtration_function=degree_filtration)\n",
    "    ecc_contributions = fg.compute_ECP()\n",
    "\n",
    "    ECC_list.append(euler_characteristic_list_from_all(ecc_contributions))"
   ]
  },
  {
   "cell_type": "code",
   "execution_count": null,
   "metadata": {},
   "outputs": [],
   "source": [
    "fig, ax = plt.subplots()\n",
    "for ecc in ECC_list:\n",
    "    plot_euler_curve(ecc, with_lines=True, this_ax=ax)"
   ]
  },
  {
   "attachments": {},
   "cell_type": "markdown",
   "metadata": {},
   "source": [
    "### Vectorize"
   ]
  },
  {
   "cell_type": "code",
   "execution_count": null,
   "metadata": {},
   "outputs": [],
   "source": [
    "# lets find the max filtration value\n",
    "max_f = max([c[-1][0] for c in ECC_list])\n",
    "max_f"
   ]
  },
  {
   "cell_type": "code",
   "execution_count": null,
   "metadata": {},
   "outputs": [],
   "source": [
    "# lets sample the ECCs\n",
    "X = np.array([ [EC_at_filtration(ecc, i) for i in range(max_f+1)] for ecc in ECC_list])\n",
    "X.shape"
   ]
  },
  {
   "attachments": {},
   "cell_type": "markdown",
   "metadata": {},
   "source": [
    "### Classify"
   ]
  },
  {
   "cell_type": "code",
   "execution_count": null,
   "metadata": {},
   "outputs": [],
   "source": [
    "from sklearn import svm\n",
    "from sklearn.model_selection import train_test_split, StratifiedKFold\n",
    "from sklearn.metrics import confusion_matrix, ConfusionMatrixDisplay"
   ]
  },
  {
   "cell_type": "code",
   "execution_count": null,
   "metadata": {},
   "outputs": [],
   "source": [
    "train_accuracy_SVM = []\n",
    "test_accuracy_SVM = []\n",
    "\n",
    "skf = StratifiedKFold(n_splits=5)\n",
    "        \n",
    "for train, test in tqdm(skf.split(X, y)):\n",
    "    \n",
    "    SVM_classifier = svm.SVC(kernel='rbf', \n",
    "                            class_weight='balanced', \n",
    "                            C=1,\n",
    "                            random_state=42)\n",
    "    SVM_classifier.fit(X[train], y[train])\n",
    "    train_accuracy_SVM.append(SVM_classifier.score(X[train], y[train]))\n",
    "    test_accuracy_SVM.append(SVM_classifier.score(X[test], y[test]))\n",
    "\n",
    "\n",
    "print(\"TRAIN: {:.3} \\pm {:.3}\".format(np.mean(train_accuracy_SVM), np.std(train_accuracy_SVM)))\n",
    "print(\"TEST: {:.3} \\pm {:.3}\".format(np.mean(test_accuracy_SVM), np.std(test_accuracy_SVM)))\n",
    "\n",
    "predictions = SVM_classifier.predict(X[test])\n",
    "cm = confusion_matrix(y[test], predictions, labels=SVM_classifier.classes_)\n",
    "disp = ConfusionMatrixDisplay(confusion_matrix=cm,\n",
    "                            display_labels=SVM_classifier.classes_)\n",
    "disp.plot()\n",
    "\n",
    "plt.show()"
   ]
  },
  {
   "cell_type": "code",
   "execution_count": null,
   "metadata": {},
   "outputs": [],
   "source": [
    "from sklearn.discriminant_analysis import LinearDiscriminantAnalysis"
   ]
  },
  {
   "cell_type": "code",
   "execution_count": null,
   "metadata": {},
   "outputs": [],
   "source": [
    "train_accuracy_LDA = []\n",
    "test_accuracy_LDA = []\n",
    "\n",
    "skf = StratifiedKFold(n_splits=5)\n",
    "        \n",
    "for train, test in tqdm(skf.split(X, y)):\n",
    "    \n",
    "    ldr_classifier = LinearDiscriminantAnalysis()\n",
    "\n",
    "    ldr_classifier.fit(X[train], y[train])\n",
    "    train_accuracy_LDA.append(ldr_classifier.score(X[train], y[train]))\n",
    "    test_accuracy_LDA.append(ldr_classifier.score(X[test], y[test]))\n",
    "\n",
    "\n",
    "print(\"TRAIN: {:.3} \\pm {:.3}\".format(np.mean(train_accuracy_LDA), np.std(train_accuracy_LDA)))\n",
    "print(\"TEST: {:.3} \\pm {:.3}\".format(np.mean(test_accuracy_LDA), np.std(test_accuracy_LDA)))\n",
    "\n",
    "predictions = ldr_classifier.predict(X[test])\n",
    "cm = confusion_matrix(y[test], predictions, labels=ldr_classifier.classes_)\n",
    "disp = ConfusionMatrixDisplay(confusion_matrix=cm,\n",
    "                              display_labels=ldr_classifier.classes_)\n",
    "disp.plot()\n",
    "\n",
    "plt.show()"
   ]
  },
  {
   "attachments": {},
   "cell_type": "markdown",
   "metadata": {},
   "source": [
    "# 2-parameter filtrations"
   ]
  },
  {
   "cell_type": "code",
   "execution_count": 7,
   "metadata": {},
   "outputs": [],
   "source": [
    "from graphtda import FilteredGraph\n",
    "from graphtda.graphtda import hks, ollivier_ricci_curvature, degree_filtration, HKS_bifiltration\n",
    "from graphtda.graphtda import product_bifiltration, interlevel_bifiltration\n",
    "\n",
    "from graphtda.bifiltration_utils import discretize_graded_rank"
   ]
  },
  {
   "cell_type": "code",
   "execution_count": 8,
   "metadata": {},
   "outputs": [
    {
     "data": {
      "application/vnd.jupyter.widget-view+json": {
       "model_id": "d231088f2e1f4a348d079e36fa6ba548",
       "version_major": 2,
       "version_minor": 0
      },
      "text/plain": [
       "  0%|          | 0/1113 [00:00<?, ?it/s]"
      ]
     },
     "metadata": {},
     "output_type": "display_data"
    }
   ],
   "source": [
    "hilbert_0 = []\n",
    "hilbert_1 = []\n",
    "\n",
    "for G in tqdm(data):\n",
    "    #FG1 = FilteredGraph(G, hks, t=10)\n",
    "    #FG2 = FilteredGraph(G, ollivier_ricci_curvature, alpha=0.5)\n",
    "\n",
    "    #FG3 = FilteredGraph(G, degree_filtration)\n",
    "\n",
    "    #FG = FilteredGraph(G, product_bifiltration, G1=FG1, G2=FG2)\n",
    "\n",
    "    FG = FilteredGraph(G, HKS_bifiltration)\n",
    "\n",
    "    FG.compute_bipersistence(dim=0, x=100,y=100)\n",
    "    hilbert_0.append(FG.betti)\n",
    "\n",
    "    FG.compute_bipersistence(dim=1, x=100,y=100)\n",
    "    hilbert_1.append(FG.betti)\n",
    "\n",
    "import pickle\n",
    "\n",
    "with open('pkl/{}_hks_bi_0'.format(DATASET_NAME), 'wb') as f0:\n",
    "    pickle.dump(hilbert_0, f0)\n",
    "\n",
    "with open('pkl/{}_hks_bi_1'.format(DATASET_NAME), 'wb') as f1:\n",
    "    pickle.dump(hilbert_1, f1)"
   ]
  },
  {
   "attachments": {},
   "cell_type": "markdown",
   "metadata": {},
   "source": [
    "### LOAD"
   ]
  },
  {
   "cell_type": "code",
   "execution_count": 9,
   "metadata": {},
   "outputs": [],
   "source": [
    "import pickle \n",
    "\n",
    "with open('pkl/{}_hks_bi_0'.format(DATASET_NAME), 'rb') as f0:\n",
    "    hilbert_0 = pickle.load(f0)\n",
    "\n",
    "with open('pkl/{}_hks_bi_1'.format(DATASET_NAME), 'rb') as f1:\n",
    "    hilbert_1 = pickle.load(f1)"
   ]
  },
  {
   "cell_type": "code",
   "execution_count": 10,
   "metadata": {},
   "outputs": [
    {
     "name": "stdout",
     "output_type": "stream",
     "text": [
      "0.01 1.0\n",
      "0.1 10.0\n"
     ]
    }
   ],
   "source": [
    "x_min_0, x_max_0 = (min([float(min(betti.dimensions.x_grades)) for betti in hilbert_0]), \n",
    "                max([float(max(betti.dimensions.x_grades)) for betti in hilbert_0])\n",
    ")\n",
    "\n",
    "y_min_0, y_max_0 = (min([float(min(betti.dimensions.y_grades)) for betti in hilbert_0]), \n",
    "                max([float(max(betti.dimensions.y_grades)) for betti in hilbert_0])\n",
    ")\n",
    "\n",
    "print(x_min_0, x_max_0)\n",
    "print(y_min_0, y_max_0)"
   ]
  },
  {
   "cell_type": "code",
   "execution_count": 11,
   "metadata": {},
   "outputs": [
    {
     "name": "stdout",
     "output_type": "stream",
     "text": [
      "0.01 1.0\n",
      "0.1 10.0\n"
     ]
    }
   ],
   "source": [
    "x_min_1, x_max_1 = (min([float(min(betti.dimensions.x_grades)) for betti in hilbert_1]), \n",
    "                max([float(max(betti.dimensions.x_grades)) for betti in hilbert_1])\n",
    ")\n",
    "\n",
    "y_min_1, y_max_1 = (min([float(min(betti.dimensions.y_grades)) for betti in hilbert_1]), \n",
    "                max([float(max(betti.dimensions.y_grades)) for betti in hilbert_1])\n",
    ")\n",
    "\n",
    "print(x_min_1, x_max_1)\n",
    "print(y_min_1, y_max_1)"
   ]
  },
  {
   "cell_type": "code",
   "execution_count": 12,
   "metadata": {},
   "outputs": [
    {
     "data": {
      "application/vnd.jupyter.widget-view+json": {
       "model_id": "ebd5047e29a4446298958a3b9b80228e",
       "version_major": 2,
       "version_minor": 0
      },
      "text/plain": [
       "0it [00:00, ?it/s]"
      ]
     },
     "metadata": {},
     "output_type": "display_data"
    },
    {
     "data": {
      "application/vnd.jupyter.widget-view+json": {
       "model_id": "b26a0d099493431ab77414ba59d47141",
       "version_major": 2,
       "version_minor": 0
      },
      "text/plain": [
       "0it [00:00, ?it/s]"
      ]
     },
     "metadata": {},
     "output_type": "display_data"
    },
    {
     "name": "stderr",
     "output_type": "stream",
     "text": [
      "/Users/dgurnari/GitHub/graphtda/graphtda/bifiltration_utils.py:199: UserWarning: the graded rank is empty for graph 875\n",
      "  warnings.warn('the graded rank is empty for graph {}'.format(idx))\n"
     ]
    },
    {
     "data": {
      "text/plain": [
       "(1113, 2, 50, 50)"
      ]
     },
     "execution_count": 12,
     "metadata": {},
     "output_type": "execute_result"
    }
   ],
   "source": [
    "x_grid = np.linspace(x_min_0, x_max_0, num=50)\n",
    "y_grid = np.linspace(y_min_0, y_max_0, num=50)\n",
    "\n",
    "grid_hilbert_0 = np.array([discretize_graded_rank(betti, x_grid, y_grid, i) for i, betti in tqdm(enumerate(hilbert_0))])\n",
    "grid_hilbert_1 = np.array([discretize_graded_rank(betti, x_grid, y_grid, i) for i, betti in tqdm(enumerate(hilbert_1))])\n",
    "\n",
    "hilbert_stack = np.stack((grid_hilbert_0, grid_hilbert_1), axis=1)\n",
    "hilbert_stack.shape"
   ]
  },
  {
   "cell_type": "code",
   "execution_count": 13,
   "metadata": {},
   "outputs": [
    {
     "data": {
      "image/png": "[encoded data removed]",
      "text/plain": [
       "<Figure size 640x480 with 4 Axes>"
      ]
     },
     "metadata": {},
     "output_type": "display_data"
    }
   ],
   "source": [
    "fig, axs = plt.subplots(ncols=2, nrows=2)\n",
    "\n",
    "axs[0, 0].imshow(np.mean(grid_hilbert_0[y == 1], axis=0))\n",
    "axs[0, 0].set_title('hilbert 0 class 1')\n",
    "axs[0, 1].imshow(np.mean(grid_hilbert_0[y == 0], axis=0))\n",
    "axs[0, 1].set_title('hilbert 0 class 0')\n",
    "\n",
    "axs[1, 0].imshow(np.mean(grid_hilbert_1[y == 1], axis=0))\n",
    "axs[1, 0].set_title('hilbert 1 class 1')\n",
    "axs[1, 1].imshow(np.mean(grid_hilbert_1[y == 0], axis=0))\n",
    "axs[1, 1].set_title('hilbert 1 class 0')\n",
    "\n",
    "plt.show()"
   ]
  },
  {
   "attachments": {},
   "cell_type": "markdown",
   "metadata": {},
   "source": [
    "## Gradient Boosting"
   ]
  },
  {
   "cell_type": "code",
   "execution_count": null,
   "metadata": {},
   "outputs": [],
   "source": [
    "from sklearn.ensemble import GradientBoostingClassifier\n",
    "from sklearn.model_selection import train_test_split, StratifiedKFold"
   ]
  },
  {
   "cell_type": "code",
   "execution_count": null,
   "metadata": {},
   "outputs": [],
   "source": [
    "X_train.reshape(len(X_train), -1).shape"
   ]
  },
  {
   "cell_type": "code",
   "execution_count": null,
   "metadata": {},
   "outputs": [],
   "source": [
    "train_accuracy_CNN = []\n",
    "test_accuracy_CNN = []\n",
    "\n",
    "skf = StratifiedKFold(n_splits=5)\n",
    "        \n",
    "for train, test in tqdm(skf.split(grid_hilbert_0, hilbert_labels)):\n",
    "    X_train = grid_hilbert_0[train].reshape(len(train), -1)\n",
    "    X_test = grid_hilbert_0[test].reshape(len(test), -1)\n",
    "    y_train = hilbert_labels[train]\n",
    "    y_test = hilbert_labels[test]\n",
    "\n",
    "    clf = GradientBoostingClassifier(n_estimators=200, learning_rate=1.0,\n",
    "                                     max_depth=1, random_state=0).fit(X_train, y_train)\n",
    "\n",
    "    print(clf.score(X_test, y_test))"
   ]
  },
  {
   "attachments": {},
   "cell_type": "markdown",
   "metadata": {},
   "source": [
    "## ConvNN "
   ]
  },
  {
   "cell_type": "code",
   "execution_count": 14,
   "metadata": {},
   "outputs": [
    {
     "name": "stdout",
     "output_type": "stream",
     "text": [
      "The model will be running on cpu device\n"
     ]
    },
    {
     "data": {
      "application/vnd.jupyter.widget-view+json": {
       "model_id": "024480dca1a4415ba0fcd006f79d7de4",
       "version_major": 2,
       "version_minor": 0
      },
      "text/plain": [
       "0it [00:00, ?it/s]"
      ]
     },
     "metadata": {},
     "output_type": "display_data"
    },
    {
     "name": "stdout",
     "output_type": "stream",
     "text": [
      "TRAIN 0.655  TEST 0.583\n",
      "TRAIN 0.638  TEST 0.646\n",
      "TRAIN 0.638  TEST 0.709\n",
      "TRAIN 0.625  TEST 0.631\n",
      "TRAIN 0.653  TEST 0.617\n"
     ]
    }
   ],
   "source": [
    "from CNN_model import train_CNN\n",
    "\n",
    "train_accuracy_CNN, test_accuracy_CNN = train_CNN(hilbert_stack, y, num_epochs=50)"
   ]
  },
  {
   "cell_type": "code",
   "execution_count": 15,
   "metadata": {},
   "outputs": [
    {
     "name": "stdout",
     "output_type": "stream",
     "text": [
      "TRAIN: 64.2 \\pm 1.1\n",
      "TEST: 63.7 \\pm 4.13\n"
     ]
    }
   ],
   "source": [
    "print(\"TRAIN: {:.3} \\pm {:.3}\".format(np.mean(train_accuracy_CNN)*100, np.std(train_accuracy_CNN)*100 ))\n",
    "print(\"TEST: {:.3} \\pm {:.3}\".format(np.mean(test_accuracy_CNN)*100, np.std(test_accuracy_CNN)*100 ))"
   ]
  },
  {
   "cell_type": "code",
   "execution_count": null,
   "metadata": {},
   "outputs": [],
   "source": []
  }
 ],
 "metadata": {
  "kernelspec": {
   "display_name": "tda",
   "language": "python",
   "name": "python3"
  },
  "language_info": {
   "codemirror_mode": {
    "name": "ipython",
    "version": 3
   },
   "file_extension": ".py",
   "mimetype": "text/x-python",
   "name": "python",
   "nbconvert_exporter": "python",
   "pygments_lexer": "ipython3",
   "version": "3.10.9"
  },
  "orig_nbformat": 4
 },
 "nbformat": 4,
 "nbformat_minor": 2
}
